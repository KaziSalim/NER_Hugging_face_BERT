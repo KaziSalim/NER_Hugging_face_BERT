{
 "cells": [
  {
   "cell_type": "code",
   "execution_count": 1,
   "id": "8ca21692",
   "metadata": {},
   "outputs": [],
   "source": [
    "from transformers import pipeline"
   ]
  },
  {
   "cell_type": "code",
   "execution_count": 2,
   "id": "c4814608",
   "metadata": {},
   "outputs": [
    {
     "name": "stderr",
     "output_type": "stream",
     "text": [
      "Some weights of the model checkpoint at dbmdz/bert-large-cased-finetuned-conll03-english were not used when initializing BertForTokenClassification: ['bert.pooler.dense.weight', 'bert.pooler.dense.bias']\n",
      "- This IS expected if you are initializing BertForTokenClassification from the checkpoint of a model trained on another task or with another architecture (e.g. initializing a BertForSequenceClassification model from a BertForPreTraining model).\n",
      "- This IS NOT expected if you are initializing BertForTokenClassification from the checkpoint of a model that you expect to be exactly identical (initializing a BertForSequenceClassification model from a BertForSequenceClassification model).\n"
     ]
    }
   ],
   "source": [
    "ner_pipeline = pipeline(\"ner\", model=\"dbmdz/bert-large-cased-finetuned-conll03-english\")\n"
   ]
  },
  {
   "cell_type": "code",
   "execution_count": 3,
   "id": "2e674c25",
   "metadata": {},
   "outputs": [],
   "source": [
    "text = \"Apple Inc. is a technology company based in Cupertino, California.\"\n"
   ]
  },
  {
   "cell_type": "code",
   "execution_count": 4,
   "id": "e91aa7da",
   "metadata": {},
   "outputs": [],
   "source": [
    "results = ner_pipeline(text)\n"
   ]
  },
  {
   "cell_type": "code",
   "execution_count": 5,
   "id": "bc296a4c",
   "metadata": {},
   "outputs": [
    {
     "name": "stdout",
     "output_type": "stream",
     "text": [
      "Entity: Apple, Label: I-ORG (Score: 0.9996)\n",
      "Entity: Inc, Label: I-ORG (Score: 0.9995)\n",
      "Entity: Cup, Label: I-LOC (Score: 0.9948)\n",
      "Entity: ##ert, Label: I-LOC (Score: 0.8969)\n",
      "Entity: ##ino, Label: I-LOC (Score: 0.9930)\n",
      "Entity: California, Label: I-LOC (Score: 0.9979)\n"
     ]
    }
   ],
   "source": [
    "# Display the results\n",
    "for result in results:\n",
    "    print(f\"Entity: {result['word']}, Label: {result['entity']} (Score: {result['score']:.4f})\")\n"
   ]
  },
  {
   "cell_type": "code",
   "execution_count": 6,
   "id": "8a86f69c",
   "metadata": {},
   "outputs": [
    {
     "name": "stdout",
     "output_type": "stream",
     "text": [
      "Precision: 1.0000\n",
      "Recall: 0.6667\n",
      "F1-score: 0.8000\n"
     ]
    }
   ],
   "source": [
    "def calculate_scores(true_entities, predicted_entities):\n",
    "    # Calculate True Positives, False Positives, and False Negatives\n",
    "    true_positives = len(set(true_entities) & set(predicted_entities))\n",
    "    false_positives = len(set(predicted_entities) - set(true_entities))\n",
    "    false_negatives = len(set(true_entities) - set(predicted_entities))\n",
    "\n",
    "    # Calculate Precision, Recall, and F1-score\n",
    "    precision = true_positives / (true_positives + false_positives) if (true_positives + false_positives) > 0 else 0\n",
    "    recall = true_positives / (true_positives + false_negatives) if (true_positives + false_negatives) > 0 else 0\n",
    "    f1_score = 2 * (precision * recall) / (precision + recall) if (precision + recall) > 0 else 0\n",
    "\n",
    "    return precision, recall, f1_score\n",
    "\n",
    "# Example usage:\n",
    "true_entities = [\"Apple Inc.\", \"Cupertino\", \"California\"]\n",
    "predicted_entities = [\"Apple Inc.\", \"California\"]\n",
    "\n",
    "precision, recall, f1_score = calculate_scores(true_entities, predicted_entities)\n",
    "\n",
    "print(f\"Precision: {precision:.4f}\")\n",
    "print(f\"Recall: {recall:.4f}\")\n",
    "print(f\"F1-score: {f1_score:.4f}\")\n"
   ]
  }
 ],
 "metadata": {
  "kernelspec": {
   "display_name": "Python 3 (ipykernel)",
   "language": "python",
   "name": "python3"
  },
  "language_info": {
   "codemirror_mode": {
    "name": "ipython",
    "version": 3
   },
   "file_extension": ".py",
   "mimetype": "text/x-python",
   "name": "python",
   "nbconvert_exporter": "python",
   "pygments_lexer": "ipython3",
   "version": "3.11.4"
  }
 },
 "nbformat": 4,
 "nbformat_minor": 5
}
